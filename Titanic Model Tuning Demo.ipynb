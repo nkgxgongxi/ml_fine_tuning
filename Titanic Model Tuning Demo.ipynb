{
 "metadata": {
  "kernelspec": {
   "display_name": "Streamlit Notebook",
   "name": "streamlit"
  },
  "lastEditStatus": {
   "notebookId": "il75azapjv2rloi4x7kh",
   "authorId": "4617403468269",
   "authorName": "ML_DEMO_USER",
   "authorEmail": "",
   "sessionId": "67a119f9-deb9-4442-89cc-395fa27497b6",
   "lastEditTime": 1752484042831
  }
 },
 "nbformat_minor": 5,
 "nbformat": 4,
 "cells": [
  {
   "cell_type": "code",
   "id": "3775908f-ca36-4846-8f38-5adca39217f2",
   "metadata": {
    "language": "python",
    "name": "import_packages"
   },
   "source": "# Import python packages\nimport numpy as np\nimport pandas as pd\nfrom sklearn.model_selection import train_test_split\n\nfrom sklearn.pipeline import Pipeline\nfrom sklearn.compose import ColumnTransformer\nfrom sklearn.preprocessing import StandardScaler, OneHotEncoder\nfrom sklearn.impute import SimpleImputer\n\n\nfrom sklearn.linear_model import LogisticRegression\nfrom sklearn.model_selection import cross_val_score\nfrom sklearn.metrics import accuracy_score, roc_auc_score\n\n\nfrom sklearn.ensemble import RandomForestClassifier\n\nfrom xgboost import XGBClassifier\nfrom sklearn.model_selection import GridSearchCV\n\n\nfrom imblearn.pipeline import Pipeline as ImbPipeline\nfrom imblearn.over_sampling import SMOTE\n\n# We can also use Snowpark for our analyses!\nfrom snowflake.snowpark.context import get_active_session\nsession = get_active_session()\n",
   "execution_count": null,
   "outputs": []
  },
  {
   "cell_type": "code",
   "id": "c695373e-ac74-4b62-a1f1-08206cbd5c81",
   "metadata": {
    "language": "python",
    "name": "load_train_data"
   },
   "source": "df = session.table('TITANIC_TRAIN').to_pandas()\n\nprint(df.head())\n\n",
   "execution_count": null,
   "outputs": []
  },
  {
   "cell_type": "code",
   "id": "0a43c4d5-6318-4bb6-9f73-cf85f4f8e798",
   "metadata": {
    "language": "python",
    "name": "train_test_split"
   },
   "outputs": [],
   "source": "# Split train/test set\ntrain_data, test_data = train_test_split(df, test_size=0.2, random_state=42)",
   "execution_count": null
  },
  {
   "cell_type": "code",
   "id": "fbdd4162-9ba0-4b72-a7ee-473047d4df1c",
   "metadata": {
    "language": "python",
    "name": "simple_feature_eng"
   },
   "outputs": [],
   "source": "# Feature groups\nnum_features = [x.upper() for x in ['Age', 'Fare']]\ncat_features = [x.upper() for x in ['Sex', 'Embarked', 'Pclass']]\n\n# Transformers\nnum_transformer = Pipeline([\n    ('imputer', SimpleImputer(strategy='median')),\n    ('scaler', StandardScaler())\n])\n\ncat_transformer = Pipeline([\n    ('imputer', SimpleImputer(strategy='most_frequent')),\n    ('encoder', OneHotEncoder(handle_unknown='ignore'))\n])\n\n# Column Transformer\npreprocessor = ColumnTransformer([\n    ('num', num_transformer, num_features),\n    ('cat', cat_transformer, cat_features)\n])",
   "execution_count": null
  },
  {
   "cell_type": "code",
   "id": "b5038d3b-c763-44cd-9aa9-1d1b158e7966",
   "metadata": {
    "language": "python",
    "name": "logistic_regression_cross_validation"
   },
   "outputs": [],
   "source": "X_train = train_data[num_features + cat_features]\ny_train = train_data['SURVIVED']\n\n# Pipeline\nlr_pipeline = Pipeline([\n    ('preprocessor', preprocessor),\n    ('classifier', LogisticRegression(max_iter=1000))\n])\n\n# 5-fold cross-validation on training set\nscores = cross_val_score(lr_pipeline, X_train, y_train, cv=5, scoring='accuracy')\nprint(\"Logistic Regression CV Accuracy:\", scores.mean())",
   "execution_count": null
  },
  {
   "cell_type": "code",
   "id": "b910b175-c13b-483e-9037-c19e3cced902",
   "metadata": {
    "language": "python",
    "name": "random_forest_cross_validation"
   },
   "outputs": [],
   "source": "rf_pipeline = Pipeline([\n    ('preprocessor', preprocessor),\n    ('classifier', RandomForestClassifier(n_estimators=100, random_state=42))\n])\n\nscores = cross_val_score(rf_pipeline, X_train, y_train, cv=5, scoring='accuracy')\nprint(\"Random Forest CV Accuracy:\", scores.mean())",
   "execution_count": null
  },
  {
   "cell_type": "code",
   "id": "e0bed097-8da0-4d42-bbf2-1bc06074b583",
   "metadata": {
    "language": "python",
    "name": "random_forest_fit"
   },
   "outputs": [],
   "source": "rf_pipeline.fit(X_train, y_train)",
   "execution_count": null
  },
  {
   "cell_type": "code",
   "id": "e9220f23-905b-4fc9-8aa0-909d896a87d1",
   "metadata": {
    "language": "python",
    "name": "example_of_xgb_tuning_in_snowflake"
   },
   "outputs": [],
   "source": "xgb_pipeline = Pipeline([\n    ('preprocessor', preprocessor),\n    ('classifier', XGBClassifier(use_label_encoder=False, eval_metric='logloss'))\n])\n\nparam_grid = {\n    'classifier__n_estimators': [50, 100],\n    'classifier__max_depth': [3, 5],\n    'classifier__learning_rate': [0.05, 0.1]\n}\n\ngrid_search = GridSearchCV(\n    xgb_pipeline,\n    param_grid,\n    cv=5,\n    scoring='accuracy',\n    n_jobs=1,\n    verbose=1\n)\n\ngrid_search.fit(X_train, y_train)\nprint(\"Best Parameters:\", grid_search.best_params_)\nprint(\"Best Accuracy Score:\", grid_search.best_score_)",
   "execution_count": null
  },
  {
   "cell_type": "code",
   "id": "6af3d272-29de-494d-8708-59202307c4e3",
   "metadata": {
    "language": "python",
    "name": "load_test_data"
   },
   "outputs": [],
   "source": "test_df = session.table('TITANIC_TEST').to_pandas()\n\nprint(test_df.head())",
   "execution_count": null
  },
  {
   "cell_type": "code",
   "id": "82b8f744-34e0-4f91-ad8e-1b82eefb9f15",
   "metadata": {
    "language": "python",
    "name": "prediction"
   },
   "outputs": [],
   "source": "X_submission = test_df[num_features + cat_features]\n# best_model = grid_search.best_estimator_\n\nbest_model = rf_pipeline\nsubmission_preds = best_model.predict(X_submission)\n\n\nsubmission = pd.DataFrame({\n    \"PassengerId\": test_df[\"PASSENGERID\"],\n    \"Survived\": submission_preds\n})",
   "execution_count": null
  },
  {
   "cell_type": "code",
   "id": "61edfba0-6269-41fe-9ee3-f83c81f10915",
   "metadata": {
    "language": "python",
    "name": "check_session_role"
   },
   "outputs": [],
   "source": "session.sql(\"SELECT CURRENT_ROLE(), CURRENT_DATABASE(), CURRENT_SCHEMA()\").show()",
   "execution_count": null
  },
  {
   "cell_type": "code",
   "id": "466be564-faa6-4dda-a926-46c4c8e30057",
   "metadata": {
    "language": "python",
    "name": "update_session_role"
   },
   "outputs": [],
   "source": "session.sql(\"USE ROLE JR_MLE\").collect()",
   "execution_count": null
  },
  {
   "cell_type": "code",
   "id": "6fb6dd87-07a1-4a0a-8bfe-3bb34b5f9f39",
   "metadata": {
    "language": "python",
    "name": "write_result_back_to_table"
   },
   "outputs": [],
   "source": "session.write_pandas(submission, table_name='TEST_SUBMISSION', overwrite=True)",
   "execution_count": null
  }
 ]
}