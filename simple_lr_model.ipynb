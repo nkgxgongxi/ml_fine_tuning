{
 "cells": [
  {
   "cell_type": "code",
   "execution_count": 1,
   "id": "caea0004",
   "metadata": {},
   "outputs": [],
   "source": [
    "import numpy as np\n",
    "import pandas as pd\n",
    "from sklearn.model_selection import train_test_split\n",
    "\n",
    "from sklearn.pipeline import Pipeline\n",
    "from sklearn.compose import ColumnTransformer\n",
    "from sklearn.preprocessing import OneHotEncoder, LabelEncoder, StandardScaler\n",
    "from sklearn.metrics import roc_curve, auc\n",
    "from sklearn.model_selection import StratifiedKFold\n",
    "from sklearn.impute import SimpleImputer\n",
    "from sklearn.model_selection import cross_val_score\n",
    "from sklearn.metrics import accuracy_score, roc_auc_score\n",
    "\n",
    "\n",
    "from sklearn.linear_model import LogisticRegression"
   ]
  },
  {
   "cell_type": "code",
   "execution_count": 2,
   "id": "ecbc088c",
   "metadata": {},
   "outputs": [],
   "source": [
    "# Load data (replace path as needed)\n",
    "df = pd.read_csv(\"train.csv\")"
   ]
  },
  {
   "cell_type": "code",
   "execution_count": 3,
   "id": "383c998e",
   "metadata": {},
   "outputs": [],
   "source": [
    "# Split train/test set\n",
    "train_data, test_data = train_test_split(df, test_size=0.2, random_state=42)"
   ]
  },
  {
   "cell_type": "code",
   "execution_count": 4,
   "id": "5d664bc7",
   "metadata": {},
   "outputs": [],
   "source": [
    "# Feature groups\n",
    "num_features = ['Age', 'Fare']\n",
    "cat_features = ['Sex', 'Embarked', 'Pclass']\n",
    "\n",
    "# Transformers\n",
    "num_transformer = Pipeline([\n",
    "    ('imputer', SimpleImputer(strategy='median')),\n",
    "    ('scaler', StandardScaler())\n",
    "])\n",
    "\n",
    "cat_transformer = Pipeline([\n",
    "    ('imputer', SimpleImputer(strategy='most_frequent')),\n",
    "    ('encoder', OneHotEncoder(handle_unknown='ignore'))\n",
    "])\n",
    "\n",
    "# Column Transformer\n",
    "preprocessor = ColumnTransformer([\n",
    "    ('num', num_transformer, num_features),\n",
    "    ('cat', cat_transformer, cat_features)\n",
    "])"
   ]
  },
  {
   "cell_type": "code",
   "execution_count": 5,
   "id": "a9861baa",
   "metadata": {},
   "outputs": [
    {
     "name": "stdout",
     "output_type": "stream",
     "text": [
      "Logistic Regression CV Accuracy: 0.7850684526740864\n"
     ]
    }
   ],
   "source": [
    "X_train = train_data[num_features + cat_features]\n",
    "y_train = train_data['Survived']\n",
    "\n",
    "# Pipeline\n",
    "lr_pipeline = Pipeline([\n",
    "     ('preprocessor', preprocessor),\n",
    "    ('classifier', LogisticRegression(max_iter=1000))\n",
    "])\n",
    "\n",
    "# 5-fold cross-validation on training set\n",
    "scores = cross_val_score(lr_pipeline, X_train, y_train, cv=5, scoring='accuracy')\n",
    "print(\"Logistic Regression CV Accuracy:\", scores.mean())"
   ]
  },
  {
   "cell_type": "code",
   "execution_count": 6,
   "id": "8b376cd3",
   "metadata": {},
   "outputs": [
    {
     "name": "stdout",
     "output_type": "stream",
     "text": [
      "Accuracy: 0.7877094972067039\n"
     ]
    }
   ],
   "source": [
    "# Apply best estimator to held-out test set\n",
    "X_test = test_data[num_features + cat_features]\n",
    "y_test = test_data['Survived']\n",
    "\n",
    "lr_pipeline.fit(X_train, y_train)\n",
    "\n",
    "# Predict\n",
    "y_pred = lr_pipeline.predict(X_test)\n",
    "\n",
    "# Evaluation\n",
    "print(\"Accuracy:\", accuracy_score(y_test, y_pred))"
   ]
  },
  {
   "cell_type": "code",
   "execution_count": 8,
   "id": "a3843e7c",
   "metadata": {},
   "outputs": [
    {
     "name": "stdout",
     "output_type": "stream",
     "text": [
      "Submission file created: submission.csv\n"
     ]
    }
   ],
   "source": [
    "# Load test.csv\n",
    "test_raw = pd.read_csv(\"test.csv\")\n",
    "\n",
    "X_submission = test_raw[num_features + cat_features]\n",
    "\n",
    "submission_preds = lr_pipeline.predict(X_submission)\n",
    "\n",
    "\n",
    "submission = pd.DataFrame({\n",
    "    \"PassengerId\": test_raw[\"PassengerId\"],\n",
    "    \"Survived\": submission_preds\n",
    "})\n",
    "\n",
    "submission.to_csv(\"submission_lr_no_fe.csv\", index=False)\n",
    "print(\"Submission file created: submission.csv\")\n",
    "\n"
   ]
  },
  {
   "cell_type": "markdown",
   "id": "8ab31a97",
   "metadata": {},
   "source": [
    "#### This submission results in an accuracy of 0.76794."
   ]
  }
 ],
 "metadata": {
  "kernelspec": {
   "display_name": "ml_env",
   "language": "python",
   "name": "python3"
  },
  "language_info": {
   "codemirror_mode": {
    "name": "ipython",
    "version": 3
   },
   "file_extension": ".py",
   "mimetype": "text/x-python",
   "name": "python",
   "nbconvert_exporter": "python",
   "pygments_lexer": "ipython3",
   "version": "3.11.9"
  }
 },
 "nbformat": 4,
 "nbformat_minor": 5
}
