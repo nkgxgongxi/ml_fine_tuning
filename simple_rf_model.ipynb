{
 "cells": [
  {
   "cell_type": "code",
   "execution_count": 7,
   "id": "32359149",
   "metadata": {},
   "outputs": [],
   "source": [
    "import numpy as np\n",
    "import pandas as pd\n",
    "from sklearn.model_selection import train_test_split\n",
    "\n",
    "from sklearn.pipeline import Pipeline\n",
    "from sklearn.compose import ColumnTransformer\n",
    "from sklearn.preprocessing import OneHotEncoder, LabelEncoder, StandardScaler\n",
    "from sklearn.metrics import roc_curve, auc\n",
    "from sklearn.model_selection import StratifiedKFold\n",
    "from sklearn.impute import SimpleImputer\n",
    "from sklearn.model_selection import cross_val_score\n",
    "from sklearn.metrics import accuracy_score, roc_auc_score\n",
    "\n",
    "\n",
    "from sklearn.ensemble import RandomForestClassifier\n",
    "from sklearn.model_selection import GridSearchCV"
   ]
  },
  {
   "cell_type": "code",
   "execution_count": null,
   "id": "0455ceb0",
   "metadata": {},
   "outputs": [],
   "source": [
    "# Load data\n",
    "df = pd.read_csv(\"train.csv\")\n",
    "\n",
    "train_data, test_data = train_test_split(df, test_size=0.2, random_state=42)"
   ]
  },
  {
   "cell_type": "code",
   "execution_count": 3,
   "id": "1d1de675",
   "metadata": {},
   "outputs": [],
   "source": [
    "# Feature groups\n",
    "num_features = ['Age', 'Fare']\n",
    "cat_features = ['Sex', 'Embarked', 'Pclass']\n",
    "\n",
    "# Transformers\n",
    "num_transformer = Pipeline([\n",
    "    ('imputer', SimpleImputer(strategy='median')),\n",
    "    ('scaler', StandardScaler())\n",
    "])\n",
    "\n",
    "cat_transformer = Pipeline([\n",
    "    ('imputer', SimpleImputer(strategy='most_frequent')),\n",
    "    ('encoder', OneHotEncoder(handle_unknown='ignore'))\n",
    "])\n",
    "\n",
    "# Column Transformer\n",
    "preprocessor = ColumnTransformer([\n",
    "    ('num', num_transformer, num_features),\n",
    "    ('cat', cat_transformer, cat_features)\n",
    "])"
   ]
  },
  {
   "cell_type": "markdown",
   "id": "6482839e",
   "metadata": {},
   "source": [
    "Create a pipeline to train Random Forest Classifier"
   ]
  },
  {
   "cell_type": "code",
   "execution_count": null,
   "id": "cbd71fcb",
   "metadata": {},
   "outputs": [
    {
     "name": "stdout",
     "output_type": "stream",
     "text": [
      "Random Forest CV Accuracy: 0.7992613020782035\n"
     ]
    }
   ],
   "source": [
    "X_train = train_data[num_features + cat_features]\n",
    "y_train = train_data['Survived']\n",
    "\n",
    "# Pipeline\n",
    "rf_pipeline = Pipeline([\n",
    "     ('preprocessor', preprocessor),\n",
    "    ('classifier', RandomForestClassifier(n_estimators=100, random_state=42))\n",
    "])\n",
    "\n",
    "# 5-fold cross-validation on training set\n",
    "scores = cross_val_score(rf_pipeline, X_train, y_train, cv=5, scoring='accuracy')\n",
    "print(\"Random Forest CV Accuracy:\", scores.mean())"
   ]
  },
  {
   "cell_type": "code",
   "execution_count": null,
   "id": "c6072e89",
   "metadata": {},
   "outputs": [
    {
     "name": "stdout",
     "output_type": "stream",
     "text": [
      "Accuracy: 0.7932960893854749\n"
     ]
    }
   ],
   "source": [
    "X_test = test_data[num_features + cat_features]\n",
    "y_test = test_data['Survived']\n",
    "\n",
    "# After cross validation, fit the model on entire train dataset (80%)\n",
    "rf_pipeline.fit(X_train, y_train)\n",
    "\n",
    "# Predict\n",
    "y_pred = rf_pipeline.predict(X_test)\n",
    "\n",
    "# Use the remaining 20% to conduct Evaluation\n",
    "print(\"Accuracy:\", accuracy_score(y_test, y_pred))"
   ]
  },
  {
   "cell_type": "code",
   "execution_count": 6,
   "id": "ed743a40",
   "metadata": {},
   "outputs": [
    {
     "name": "stdout",
     "output_type": "stream",
     "text": [
      "Submission file created: submission.csv\n"
     ]
    }
   ],
   "source": [
    "test_raw = pd.read_csv(\"test.csv\")\n",
    "\n",
    "X_submission = test_raw[num_features + cat_features]\n",
    "\n",
    "submission_preds = rf_pipeline.predict(X_submission)\n",
    "\n",
    "\n",
    "submission = pd.DataFrame({\n",
    "    \"PassengerId\": test_raw[\"PassengerId\"],\n",
    "    \"Survived\": submission_preds\n",
    "})\n",
    "\n",
    "submission.to_csv(\"submission_rf_no_fe.csv\", index=False)\n",
    "print(\"Submission file created: submission.csv\")"
   ]
  },
  {
   "cell_type": "markdown",
   "id": "23839ce5",
   "metadata": {},
   "source": [
    "#### This submission results in an accuracy of 0.76555."
   ]
  },
  {
   "cell_type": "markdown",
   "id": "db4e0281",
   "metadata": {},
   "source": [
    "https://www.kaggle.com/code/nargisbegum82/hyperparameter-tuning-in-random-forests"
   ]
  },
  {
   "cell_type": "code",
   "execution_count": null,
   "id": "112e1d3f",
   "metadata": {},
   "outputs": [
    {
     "name": "stdout",
     "output_type": "stream",
     "text": [
      "Fitting 5 folds for each of 144 candidates, totalling 720 fits\n",
      "Best Parameters: {'classifier__max_depth': 6, 'classifier__min_samples_leaf': 1, 'classifier__min_samples_split': 4, 'classifier__n_estimators': 1500}\n",
      "Accuracy: 0.8100558659217877\n"
     ]
    }
   ],
   "source": [
    "# hyper parameter tuning with RF Classifier\n",
    "\n",
    "rf_pipeline = Pipeline([\n",
    "     ('preprocessor', preprocessor),\n",
    "    ('classifier', RandomForestClassifier(n_estimators=100, random_state=42, max_features=\"sqrt\"))\n",
    "])\n",
    "\n",
    "# 4 hyperparameters, each has some values, so the total permutation is 3*3*4*4=144\n",
    "param_grid = {\n",
    "    'classifier__n_estimators': [1000, 1100, 1500],\n",
    "    'classifier__max_depth': [4, 5, 6],\n",
    "    'classifier__min_samples_split': [4, 6, 8, 10],\n",
    "    'classifier__min_samples_leaf': [1, 2, 5, 10]\n",
    "}\n",
    "\n",
    "# because we are using cross validation of 5 folds, we will have 720 fits in total.\n",
    "grid_search = GridSearchCV(\n",
    "    rf_pipeline,\n",
    "    param_grid=param_grid,\n",
    "    scoring='accuracy',\n",
    "    cv=5,\n",
    "    n_jobs=-1,\n",
    "    verbose=1\n",
    ")\n",
    "\n",
    "grid_search.fit(X_train, y_train)\n",
    "\n",
    "# ----- Evaluation -----\n",
    "print(\"Best Parameters:\", grid_search.best_params_)\n",
    "\n",
    "best_model = grid_search.best_estimator_\n",
    "y_pred = best_model.predict(X_test)\n",
    "\n",
    "print(\"Accuracy:\", accuracy_score(y_test, y_pred))"
   ]
  },
  {
   "cell_type": "code",
   "execution_count": 19,
   "id": "9a8dea8d",
   "metadata": {},
   "outputs": [
    {
     "name": "stdout",
     "output_type": "stream",
     "text": [
      "Submission file created: submission.csv\n"
     ]
    }
   ],
   "source": [
    "submission_preds = best_model.predict(X_submission)\n",
    "\n",
    "\n",
    "submission = pd.DataFrame({\n",
    "    \"PassengerId\": test_raw[\"PassengerId\"],\n",
    "    \"Survived\": submission_preds\n",
    "})\n",
    "\n",
    "submission.to_csv(\"submission_rf_ht_no_fe.csv\", index=False)\n",
    "print(\"Submission file created: submission.csv\")"
   ]
  },
  {
   "cell_type": "markdown",
   "id": "001cccac",
   "metadata": {},
   "source": [
    "#### This submission results in an accuracy of 0.77990"
   ]
  }
 ],
 "metadata": {
  "kernelspec": {
   "display_name": "ml_env",
   "language": "python",
   "name": "python3"
  },
  "language_info": {
   "codemirror_mode": {
    "name": "ipython",
    "version": 3
   },
   "file_extension": ".py",
   "mimetype": "text/x-python",
   "name": "python",
   "nbconvert_exporter": "python",
   "pygments_lexer": "ipython3",
   "version": "3.11.9"
  }
 },
 "nbformat": 4,
 "nbformat_minor": 5
}
